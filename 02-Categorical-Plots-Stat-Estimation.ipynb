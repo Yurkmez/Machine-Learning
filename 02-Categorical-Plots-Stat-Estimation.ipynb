{
 "cells": [
  {
   "cell_type": "markdown",
   "metadata": {},
   "source": [
    "___\n",
    "\n",
    "<a href='http://www.pieriandata.com'><img src='../Pierian_Data_Logo.png'/></a>\n",
    "___\n",
    "<center><em>Авторские права принадлежат Pierian Data Inc.</em></center>\n",
    "<center><em>Для дополнительной информации посетите наш сайт <a href='http://www.pieriandata.com'>www.pieriandata.com</a></em></center>"
   ]
  },
  {
   "cell_type": "markdown",
   "metadata": {},
   "source": [
    "# Категорийные (категориальные) графики - вычисление метрик по категориям\n",
    "\n",
    "**Категорийные (категориальные) данные** - такие данные, которые содержат набор отдельных значений. Например, страны или компании. В отличие от чисел, здесь отдельные значения не располагаются на шкале значений. Например, для стран нет значений, которые бы располагались \"между\" Германией и Францией. Или для компаний - нет компании \"между\" Google и Apple. Понятие шкалы значений относится к другим переменным - непрерывным - например, возраст или цена.\n",
    "\n",
    "Чтобы начать строить графики для категориальных переменных, давайте посмотрим на агрегатные метрики внутри категорий. По сути это означает, что мы будем отображать на графике некоторые агрегирующие функции - например, среднее (mean) или количество (count). Мы можем посчитать эти метрики с помощью pandas, но чтобы было понятнее, лучше визуализировать эти данные на графике."
   ]
  },
  {
   "cell_type": "markdown",
   "metadata": {},
   "source": [
    "## Imports"
   ]
  },
  {
   "cell_type": "code",
   "execution_count": 2,
   "metadata": {},
   "outputs": [],
   "source": [
    "import numpy as np\n",
    "import pandas as pd\n",
    "import matplotlib.pyplot as plt\n",
    "import seaborn as sns"
   ]
  },
  {
   "cell_type": "markdown",
   "metadata": {},
   "source": [
    "## Данные"
   ]
  },
  {
   "cell_type": "code",
   "execution_count": 2,
   "metadata": {},
   "outputs": [],
   "source": [
    "df = pd.read_csv(\"dm_office_sales.csv\")"
   ]
  },
  {
   "cell_type": "code",
   "execution_count": null,
   "metadata": {
    "scrolled": true
   },
   "outputs": [],
   "source": [
    "df.head()"
   ]
  },
  {
   "cell_type": "markdown",
   "metadata": {},
   "source": [
    "## Countplot()\n",
    "\n",
    "График показывает количество строк для каждой из категорий. "
   ]
  },
  {
   "cell_type": "code",
   "execution_count": null,
   "metadata": {},
   "outputs": [],
   "source": [
    "plt.figure(figsize=(10,4),dpi=200)\n",
    "sns.countplot(x='division',data=df)"
   ]
  },
  {
   "cell_type": "code",
   "execution_count": null,
   "metadata": {},
   "outputs": [],
   "source": [
    "plt.figure(figsize=(10,4),dpi=200)\n",
    "sns.countplot(x='level of education',data=df)"
   ]
  },
  {
   "cell_type": "markdown",
   "metadata": {},
   "source": [
    "### Добавляем подкатегории с помощью параметра 'hue'"
   ]
  },
  {
   "cell_type": "code",
   "execution_count": null,
   "metadata": {},
   "outputs": [],
   "source": [
    "plt.figure(figsize=(10,4),dpi=200)\n",
    "sns.countplot(x='level of education',data=df,hue='training level')"
   ]
  },
  {
   "cell_type": "markdown",
   "metadata": {},
   "source": [
    "**Замечание: Вы всегда можете отредактировать палитру по Вашему вкусу с помощью matplotlib [colormap](https://matplotlib.org/3.1.1/gallery/color/colormap_reference.html)**"
   ]
  },
  {
   "cell_type": "code",
   "execution_count": null,
   "metadata": {},
   "outputs": [],
   "source": [
    "plt.figure(figsize=(10,4),dpi=200)\n",
    "sns.countplot(x='level of education',data=df,hue='training level',palette='Set1')"
   ]
  },
  {
   "cell_type": "code",
   "execution_count": null,
   "metadata": {},
   "outputs": [],
   "source": [
    "plt.figure(figsize=(10,4),dpi=200)\n",
    "# Палитра Paired была бы очень кстати, если у нас был бы явный скачок от 0 и 1 до 2 и 3\n",
    "sns.countplot(x='level of education',data=df,hue='training level',palette='Paired')"
   ]
  },
  {
   "cell_type": "markdown",
   "metadata": {},
   "source": [
    "# barplot()\n",
    "\n",
    "До этого мы по умолчанию откладывали по оси \"y\" количество count, по аналогии с командой .groupby(x_axis).count() в pandas. Но мы также можем добавить некоторую непрерывную переменную по оси \"y\". Обратите внимание - будьте аккуратны с этими графиками: иногда в результате построения таких графиков может показаться, что по оси \"y\" нанесены непрерывные значения, хотя это может быть и не так."
   ]
  },
  {
   "cell_type": "code",
   "execution_count": null,
   "metadata": {},
   "outputs": [],
   "source": [
    "plt.figure(figsize=(10,6),dpi=200)\n",
    "# По умолчанию barplot() показывает среднее значение - mean\n",
    "# Статья о чёрных полосках на столбиках: \n",
    "# https://stackoverflow.com/questions/58362473/what-does-black-lines-on-a-seaborn-barplot-mean\n",
    "sns.barplot(x='level of education',y='salary',data=df,estimator=np.mean,ci='sd')"
   ]
  },
  {
   "cell_type": "code",
   "execution_count": null,
   "metadata": {},
   "outputs": [],
   "source": [
    "plt.figure(figsize=(12,6))\n",
    "sns.barplot(x='level of education',y='salary',data=df,estimator=np.mean,ci='sd',hue='division')"
   ]
  },
  {
   "cell_type": "code",
   "execution_count": null,
   "metadata": {},
   "outputs": [],
   "source": [
    "plt.figure(figsize=(12,6),dpi=100)\n",
    "\n",
    "# Статья о том, как переместить легенду на графике seaborn:\n",
    "# https://stackoverflow.com/questions/30490740/move-legend-outside-figure-in-seaborn-tsplot\n",
    "sns.barplot(x='level of education',y='salary',data=df,estimator=np.mean,ci='sd',hue='division')\n",
    "\n",
    "plt.legend(bbox_to_anchor=(1.05, 1)) # можно использовать или loc, или bbox_to_anchor"
   ]
  },
  {
   "cell_type": "markdown",
   "metadata": {},
   "source": [
    "--------\n",
    "--------"
   ]
  }
 ],
 "metadata": {
  "anaconda-cloud": {},
  "kernelspec": {
   "display_name": "base",
   "language": "python",
   "name": "python3"
  },
  "language_info": {
   "codemirror_mode": {
    "name": "ipython",
    "version": 3
   },
   "file_extension": ".py",
   "mimetype": "text/x-python",
   "name": "python",
   "nbconvert_exporter": "python",
   "pygments_lexer": "ipython3",
   "version": "3.10.9"
  }
 },
 "nbformat": 4,
 "nbformat_minor": 1
}
