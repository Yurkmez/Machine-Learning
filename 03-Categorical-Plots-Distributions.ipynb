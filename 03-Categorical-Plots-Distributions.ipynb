{
 "cells": [
  {
   "cell_type": "markdown",
   "metadata": {},
   "source": [
    "___\n",
    "\n",
    "<a href='http://www.pieriandata.com'><img src='../Pierian_Data_Logo.png'/></a>\n",
    "___\n",
    "<center><em>Авторские права принадлежат Pierian Data Inc.</em></center>\n",
    "<center><em>Для дополнительной информации посетите наш сайт <a href='http://www.pieriandata.com'>www.pieriandata.com</a></em></center>"
   ]
  },
  {
   "cell_type": "markdown",
   "metadata": {},
   "source": [
    "# Категорийные (категориальные) графики - распределение по категориям"
   ]
  },
  {
   "cell_type": "markdown",
   "metadata": {},
   "source": [
    "Ранее мы посмотрели, как вычислять различные метрики (среднее значение, количество и т.д.) для категорий, и сравнивать их друг с другом. Теперь давайте визуализируем распределение внутри категорий. Мы уже видели, как с помощью distplot() можно посмотреть распределение одной переменной. А теперь давайте посмотрим такое же распределение в разбиении по категориям."
   ]
  },
  {
   "cell_type": "markdown",
   "metadata": {},
   "source": [
    "## Imports"
   ]
  },
  {
   "cell_type": "code",
   "execution_count": 1,
   "metadata": {},
   "outputs": [],
   "source": [
    "import numpy as np\n",
    "import pandas as pd\n",
    "import matplotlib.pyplot as plt\n",
    "import seaborn as sns"
   ]
  },
  {
   "cell_type": "markdown",
   "metadata": {},
   "source": [
    "## Данные"
   ]
  },
  {
   "cell_type": "code",
   "execution_count": 2,
   "metadata": {},
   "outputs": [],
   "source": [
    "df = pd.read_csv(\"StudentsPerformance.csv\")"
   ]
  },
  {
   "cell_type": "code",
   "execution_count": null,
   "metadata": {
    "scrolled": true
   },
   "outputs": [],
   "source": [
    "df.head()"
   ]
  },
  {
   "cell_type": "markdown",
   "metadata": {},
   "source": [
    "## Boxplot\n",
    "\n",
    "Как мы рассказали в видео-лекции, boxplot отображает распределение, используя квартили, а также и межквартильный размах (IQR - interquartile range) для значений-выбросов (outliers)."
   ]
  },
  {
   "cell_type": "code",
   "execution_count": null,
   "metadata": {},
   "outputs": [],
   "source": [
    "plt.figure(figsize=(12,6))\n",
    "sns.boxplot(x='parental level of education',y='math score',data=df)"
   ]
  },
  {
   "cell_type": "markdown",
   "metadata": {},
   "source": [
    "### Добавляем hue для дальнейшей сегментации"
   ]
  },
  {
   "cell_type": "code",
   "execution_count": null,
   "metadata": {},
   "outputs": [],
   "source": [
    "plt.figure(figsize=(12,6))\n",
    "sns.boxplot(x='parental level of education',y='math score',data=df,hue='gender')\n",
    "\n",
    "# Опционально - перемещаем легенду, чтобы она располагалась вне графика\n",
    "plt.legend(bbox_to_anchor=(1.05, 1), loc=2, borderaxespad=0.)"
   ]
  },
  {
   "cell_type": "markdown",
   "metadata": {},
   "source": [
    "### Параметры стилизации Boxplot \n",
    "\n",
    "#### Ориентация"
   ]
  },
  {
   "cell_type": "code",
   "execution_count": null,
   "metadata": {},
   "outputs": [],
   "source": [
    "# ОБРАТИТЕ ВНИМАНИЕ, ЧТО МЫ ПОМЕНЯЛИ МЕСТАМИ X И Y В ЭТОМ СЛУЧАЕ!\n",
    "sns.boxplot(x='math score',y='parental level of education',data=df,orient='h')"
   ]
  },
  {
   "cell_type": "markdown",
   "metadata": {},
   "source": [
    "#### Ширина - Width"
   ]
  },
  {
   "cell_type": "code",
   "execution_count": null,
   "metadata": {},
   "outputs": [],
   "source": [
    "plt.figure(figsize=(12,6))\n",
    "sns.boxplot(x='parental level of education',y='math score',data=df,hue='gender',width=0.3)"
   ]
  },
  {
   "cell_type": "markdown",
   "metadata": {},
   "source": [
    "## Violinplot\n",
    "\n",
    "График \"violin plot\" играет ту же роль, что и график box plot. Он показывает распределение количественных данных по уровням одной (или нескольких) категориальной переменной - таким образом, чтобы эти распределения можно было сравнивать друг с другом. В отличие от графика box plot, в котором все компоненты графика соответствуют точкам данных, график violin plot отображает ядерную оценку плотности KDE (kernel density estimation) соответствующего распределения."
   ]
  },
  {
   "cell_type": "code",
   "execution_count": null,
   "metadata": {},
   "outputs": [],
   "source": [
    "plt.figure(figsize=(12,6))\n",
    "sns.violinplot(x='parental level of education',y='math score',data=df)"
   ]
  },
  {
   "cell_type": "code",
   "execution_count": null,
   "metadata": {},
   "outputs": [],
   "source": [
    "plt.figure(figsize=(12,6))\n",
    "sns.violinplot(x='parental level of education',y='math score',data=df,hue='gender')"
   ]
  },
  {
   "cell_type": "markdown",
   "metadata": {},
   "source": [
    "### Параметры Violinplot\n",
    "\n",
    "#### split\n",
    "Если мы в качестве hue указываем переменную, которая принимает только два значения, то можно с помощью split=True нарисовать половинки графика для каждого из этих двух значений. Так можно легче сравнивать распределения."
   ]
  },
  {
   "cell_type": "code",
   "execution_count": null,
   "metadata": {},
   "outputs": [],
   "source": [
    "plt.figure(figsize=(12,6))\n",
    "sns.violinplot(x='parental level of education',y='math score',data=df,hue='gender',split=True)"
   ]
  },
  {
   "cell_type": "markdown",
   "metadata": {},
   "source": [
    "#### Параметр inner\n",
    "\n",
    "Позволяет по-разному изображать точки внутри фигуры. \n",
    "- box - рисует миниатюрный boxplot\n",
    "- quartiles - рисует квартили распределения\n",
    "- point или stick - рисует каждую отдельную точку\n",
    "- None - не рисует внутреннюю часть"
   ]
  },
  {
   "cell_type": "code",
   "execution_count": null,
   "metadata": {},
   "outputs": [],
   "source": [
    "plt.figure(figsize=(12,6))\n",
    "sns.violinplot(x='parental level of education',y='math score',data=df,inner=None)"
   ]
  },
  {
   "cell_type": "code",
   "execution_count": null,
   "metadata": {},
   "outputs": [],
   "source": [
    "plt.figure(figsize=(12,6))\n",
    "sns.violinplot(x='parental level of education',y='math score',data=df,inner='box')"
   ]
  },
  {
   "cell_type": "code",
   "execution_count": null,
   "metadata": {},
   "outputs": [],
   "source": [
    "plt.figure(figsize=(12,6))\n",
    "sns.violinplot(x='parental level of education',y='math score',data=df,inner='quartile')"
   ]
  },
  {
   "cell_type": "code",
   "execution_count": null,
   "metadata": {},
   "outputs": [],
   "source": [
    "plt.figure(figsize=(12,6))\n",
    "sns.violinplot(x='parental level of education',y='math score',data=df,inner='stick')"
   ]
  },
  {
   "cell_type": "markdown",
   "metadata": {},
   "source": [
    "#### Ориентация"
   ]
  },
  {
   "cell_type": "code",
   "execution_count": null,
   "metadata": {},
   "outputs": [],
   "source": [
    "# Просто поменяйте местами переменные - сделайте непрерывную переменную y и категориальную переменную x\n",
    "sns.violinplot(x='math score',y='parental level of education',data=df,)"
   ]
  },
  {
   "cell_type": "markdown",
   "metadata": {},
   "source": [
    "#### Параметр bandwidth (bw)\n",
    "\n",
    "Аналогичен параметру bandwidth для kdeplot"
   ]
  },
  {
   "cell_type": "code",
   "execution_count": null,
   "metadata": {},
   "outputs": [],
   "source": [
    "plt.figure(figsize=(12,6))\n",
    "sns.violinplot(x='parental level of education',y='math score',data=df,bw=0.1)"
   ]
  },
  {
   "cell_type": "markdown",
   "metadata": {},
   "source": [
    "# Продвинутые графики\n",
    "\n",
    "С помощью boxenplot и swarmplot можно достигнуть таких же результатов, что и с помощью boxplot и violinplot, но ещё добавить дополнительную информацию. Однако будьте осторожны с этими графиками - они могут потребовать от Вас объяснений для тех людей, кто будет смотреть их. Используйте их только в случае, если Вы уверены, что аудитория поймёт эти графики."
   ]
  },
  {
   "cell_type": "code",
   "execution_count": null,
   "metadata": {},
   "outputs": [],
   "source": [
    "df.head()"
   ]
  },
  {
   "cell_type": "markdown",
   "metadata": {},
   "source": [
    "## swarmplot"
   ]
  },
  {
   "cell_type": "code",
   "execution_count": null,
   "metadata": {},
   "outputs": [],
   "source": [
    "sns.swarmplot(x='math score',data=df)"
   ]
  },
  {
   "cell_type": "code",
   "execution_count": null,
   "metadata": {},
   "outputs": [],
   "source": [
    "sns.swarmplot(x='math score',data=df,size=2)"
   ]
  },
  {
   "cell_type": "code",
   "execution_count": null,
   "metadata": {},
   "outputs": [],
   "source": [
    "sns.swarmplot(x='math score',y='race/ethnicity',data=df,size=3)"
   ]
  },
  {
   "cell_type": "code",
   "execution_count": null,
   "metadata": {},
   "outputs": [],
   "source": [
    "sns.swarmplot(x='race/ethnicity',y='math score',data=df,size=3)"
   ]
  },
  {
   "cell_type": "code",
   "execution_count": null,
   "metadata": {},
   "outputs": [],
   "source": [
    "plt.figure(figsize=(12,6))\n",
    "sns.swarmplot(x='race/ethnicity',y='math score',data=df,hue='gender')"
   ]
  },
  {
   "cell_type": "code",
   "execution_count": null,
   "metadata": {},
   "outputs": [],
   "source": [
    "plt.figure(figsize=(12,6))\n",
    "sns.swarmplot(x='race/ethnicity',y='math score',data=df,hue='gender',dodge=True)"
   ]
  },
  {
   "cell_type": "markdown",
   "metadata": {},
   "source": [
    "### boxenplot (letter-value plot)\n",
    "\n",
    "Официальное описание этого графика: https://vita.had.co.nz/papers/letter-value-plot.html\n",
    "\n",
    "Этот стиль графика изначально назывался “letter value” - порядковые статистики, потому что он показывает бОльшее количество квантилей. Такие графики похожи на box plot - они рисуют непараметрическое представление распределения, в котором все значения соответствуют фактическим наблюдениям. Добавляя всё больше и больше квантилей, график позволяет увидеть форму распределения, особенно в \"хвостах\" диапазонов."
   ]
  },
  {
   "cell_type": "code",
   "execution_count": null,
   "metadata": {},
   "outputs": [],
   "source": [
    "sns.boxenplot(x='math score',y='race/ethnicity',data=df)"
   ]
  },
  {
   "cell_type": "code",
   "execution_count": null,
   "metadata": {},
   "outputs": [],
   "source": [
    "sns.boxenplot(x='race/ethnicity',y='math score',data=df)"
   ]
  },
  {
   "cell_type": "code",
   "execution_count": null,
   "metadata": {},
   "outputs": [],
   "source": [
    "plt.figure(figsize=(12,6))\n",
    "sns.boxenplot(x='race/ethnicity',y='math score',data=df,hue='gender')"
   ]
  },
  {
   "cell_type": "markdown",
   "metadata": {},
   "source": [
    "----\n",
    "----"
   ]
  }
 ],
 "metadata": {
  "anaconda-cloud": {},
  "kernelspec": {
   "display_name": "base",
   "language": "python",
   "name": "python3"
  },
  "language_info": {
   "codemirror_mode": {
    "name": "ipython",
    "version": 3
   },
   "file_extension": ".py",
   "mimetype": "text/x-python",
   "name": "python",
   "nbconvert_exporter": "python",
   "pygments_lexer": "ipython3",
   "version": "3.10.9"
  }
 },
 "nbformat": 4,
 "nbformat_minor": 1
}
