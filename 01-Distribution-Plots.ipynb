{
 "cells": [
  {
   "cell_type": "markdown",
   "metadata": {},
   "source": [
    "___\n",
    "\n",
    "<a href='http://www.pieriandata.com'><img src='../Pierian_Data_Logo.png'/></a>\n",
    "___\n",
    "<center><em>Авторские права принадлежат Pierian Data Inc.</em></center>\n",
    "<center><em>Для дополнительной информации посетите наш сайт <a href='http://www.pieriandata.com'>www.pieriandata.com</a></em></center>"
   ]
  },
  {
   "cell_type": "markdown",
   "metadata": {},
   "source": [
    "# Графики распределений\n",
    "\n",
    "Есть много способов изобразить распределение переменной. В этом блокноте мы рассмотрим 3 таких графика - rugplot , distplot (histogram) и kdeplot.\n",
    "\n"
   ]
  },
  {
   "cell_type": "markdown",
   "metadata": {},
   "source": [
    "-----\n",
    "\n",
    "### Важное замечание!\n",
    "\n",
    "**Не беспокойтесь, если Ваши графики будут выглядеть немного по-другому с точки зрения цветов и стилизации. Позже мы рассмотрим, как можно поменять цвета и стили!**"
   ]
  },
  {
   "cell_type": "markdown",
   "metadata": {},
   "source": [
    "----\n",
    "## Данные\n",
    "\n",
    "Мы будем использовать данные с этого сайта: http://roycekimmons.com/tools/generated_data\n",
    "\n"
   ]
  },
  {
   "cell_type": "code",
   "execution_count": 1,
   "metadata": {},
   "outputs": [],
   "source": [
    "import numpy as np\n",
    "import pandas as pd\n",
    "import matplotlib.pyplot as plt\n",
    "import seaborn as sns"
   ]
  },
  {
   "cell_type": "code",
   "execution_count": 2,
   "metadata": {},
   "outputs": [],
   "source": [
    "df = pd.read_csv(\"dm_office_sales.csv\")"
   ]
  },
  {
   "cell_type": "code",
   "execution_count": null,
   "metadata": {},
   "outputs": [],
   "source": [
    "df.head()"
   ]
  },
  {
   "cell_type": "code",
   "execution_count": null,
   "metadata": {},
   "outputs": [],
   "source": [
    "df.info()"
   ]
  },
  {
   "cell_type": "markdown",
   "metadata": {},
   "source": [
    "-----"
   ]
  },
  {
   "cell_type": "markdown",
   "metadata": {},
   "source": [
    "## Rugplot\n",
    "\n",
    "Очень простой график - на нём каждая точка данных отображается одной точкой на графике. На вход этой функции подаётся одномерный массив данных.  \n",
    "\n",
    "Мы будем редко использовать этот график, поскольку он не очень нагляден на больших объёмах данных."
   ]
  },
  {
   "cell_type": "code",
   "execution_count": null,
   "metadata": {},
   "outputs": [],
   "source": [
    "# Ось y по сути ничего не обозначает\n",
    "# По оси X мы просто наносим точки\n",
    "sns.rugplot(x='salary',data=df)"
   ]
  },
  {
   "cell_type": "code",
   "execution_count": null,
   "metadata": {},
   "outputs": [],
   "source": [
    "sns.rugplot(x='salary',data=df,height=0.5)"
   ]
  },
  {
   "cell_type": "markdown",
   "metadata": {},
   "source": [
    "## displot() и histplot()  \n",
    "Предыдущий rugplot не очень информативен на больших объёмах данных, поскольку отдельные точки становится сложно отделить друг от друга. Намного более практичный способ - посчитать количество точек на том или ином отрезке оси x, и на этих данных построить гистограмму.\n",
    "\n",
    "График displot позволяет отобразить распределение одной переменной. Это гистограмма, и в качестве опции можно добавить график \"KDE\"  (Kernel Density Estimation) поверх этой гистограммы. Давайте рассмотрим применение и синтаксис этого метода."
   ]
  },
  {
   "cell_type": "code",
   "execution_count": null,
   "metadata": {},
   "outputs": [],
   "source": [
    "sns.displot(data=df,x='salary',kde=True)"
   ]
  },
  {
   "cell_type": "markdown",
   "metadata": {},
   "source": [
    "### Посмотрим на гистограмму"
   ]
  },
  {
   "cell_type": "code",
   "execution_count": null,
   "metadata": {},
   "outputs": [],
   "source": [
    "sns.displot(data=df,x='salary', color='red', edgecolor='grey', rug='True')"
   ]
  },
  {
   "cell_type": "code",
   "execution_count": null,
   "metadata": {},
   "outputs": [],
   "source": [
    "sns.histplot(data=df,x='salary')"
   ]
  },
  {
   "cell_type": "markdown",
   "metadata": {},
   "source": [
    "### Количество отрезков (Bins)"
   ]
  },
  {
   "cell_type": "code",
   "execution_count": null,
   "metadata": {},
   "outputs": [],
   "source": [
    "sns.histplot(data=df,x='salary',bins=10)"
   ]
  },
  {
   "cell_type": "code",
   "execution_count": null,
   "metadata": {},
   "outputs": [],
   "source": [
    "sns.histplot(data=df,x='salary',bins=100)"
   ]
  },
  {
   "cell_type": "markdown",
   "metadata": {},
   "source": [
    "### Добавляем сетку (grid) и стилизацию\n",
    "\n",
    "Можно указать другой стиль по умолчанию. Доступные значения: {darkgrid, whitegrid, dark, white, ticks}.\n",
    "\n",
    "Позже мы в отдельном блокноте рассмотрим стилизацию более подробно."
   ]
  },
  {
   "cell_type": "code",
   "execution_count": null,
   "metadata": {},
   "outputs": [],
   "source": [
    "sns.set(style='darkgrid')\n",
    "sns.histplot(data=df,x='salary',bins=100)"
   ]
  },
  {
   "cell_type": "code",
   "execution_count": null,
   "metadata": {},
   "outputs": [],
   "source": [
    "sns.set(style='white')\n",
    "sns.histplot(data=df,x='salary',bins=100)"
   ]
  },
  {
   "cell_type": "code",
   "execution_count": null,
   "metadata": {},
   "outputs": [],
   "source": [
    "sns.kdeplot(data=df,x='salary')\n"
   ]
  },
  {
   "cell_type": "markdown",
   "metadata": {},
   "source": [
    "### Добавление именованных параметров из matplotlib\n",
    "\n",
    "Графики Seaborn могут работать с именованными параметрами из кода matplotlib, который используется в seaborn. Не каждый график seaborn принимает на вход все параметры matplotlib, но основные параметры стилизации обычно доступны. "
   ]
  },
  {
   "cell_type": "code",
   "execution_count": null,
   "metadata": {},
   "outputs": [],
   "source": [
    "sns.displot(data=df,x='salary',bins=20,kde=False,\n",
    "            color='red',edgecolor='black',lw=4,ls='--')"
   ]
  },
  {
   "cell_type": "markdown",
   "metadata": {},
   "source": [
    "## График Kernel Density Estimation - ядерная оценка плотности\n",
    "\n",
    "**Замечание: более детальное описание смотрите в видео-лекции.**\n",
    "\n",
    "График KDE отображает оценку *плотности* функции некоторой случайной величины. По сути это задача сглаживания данных, где мы делаем некоторые предположения на основе ограниченного набора имеющихся данных.\n",
    "\n",
    "Давайте построим простой пример:"
   ]
  },
  {
   "cell_type": "code",
   "execution_count": 14,
   "metadata": {},
   "outputs": [],
   "source": [
    "np.random.seed(42)\n",
    "\n",
    "# randint выдаёт равномерно случайные числа - \n",
    "# мы получаем каждое значение возвраста с одинаковой вероятностью\n",
    "# Замечание: в реальной жизни возраст почти никогда не является равномерно распределённым, \n",
    "# так что это упрощённый пример\n",
    "sample_ages = np.random.randint(0,100,200)"
   ]
  },
  {
   "cell_type": "code",
   "execution_count": null,
   "metadata": {},
   "outputs": [],
   "source": [
    "sample_ages"
   ]
  },
  {
   "cell_type": "code",
   "execution_count": 16,
   "metadata": {},
   "outputs": [],
   "source": [
    "sample_ages = pd.DataFrame(sample_ages,columns=[\"age\"])"
   ]
  },
  {
   "cell_type": "code",
   "execution_count": 17,
   "metadata": {},
   "outputs": [
    {
     "data": {
      "text/html": [
       "<div>\n",
       "<style scoped>\n",
       "    .dataframe tbody tr th:only-of-type {\n",
       "        vertical-align: middle;\n",
       "    }\n",
       "\n",
       "    .dataframe tbody tr th {\n",
       "        vertical-align: top;\n",
       "    }\n",
       "\n",
       "    .dataframe thead th {\n",
       "        text-align: right;\n",
       "    }\n",
       "</style>\n",
       "<table border=\"1\" class=\"dataframe\">\n",
       "  <thead>\n",
       "    <tr style=\"text-align: right;\">\n",
       "      <th></th>\n",
       "      <th>age</th>\n",
       "    </tr>\n",
       "  </thead>\n",
       "  <tbody>\n",
       "    <tr>\n",
       "      <th>0</th>\n",
       "      <td>51</td>\n",
       "    </tr>\n",
       "    <tr>\n",
       "      <th>1</th>\n",
       "      <td>92</td>\n",
       "    </tr>\n",
       "    <tr>\n",
       "      <th>2</th>\n",
       "      <td>14</td>\n",
       "    </tr>\n",
       "    <tr>\n",
       "      <th>3</th>\n",
       "      <td>71</td>\n",
       "    </tr>\n",
       "    <tr>\n",
       "      <th>4</th>\n",
       "      <td>60</td>\n",
       "    </tr>\n",
       "  </tbody>\n",
       "</table>\n",
       "</div>"
      ],
      "text/plain": [
       "   age\n",
       "0   51\n",
       "1   92\n",
       "2   14\n",
       "3   71\n",
       "4   60"
      ]
     },
     "execution_count": 17,
     "metadata": {},
     "output_type": "execute_result"
    }
   ],
   "source": [
    "sample_ages.head()"
   ]
  },
  {
   "cell_type": "code",
   "execution_count": null,
   "metadata": {},
   "outputs": [],
   "source": [
    "sns.rugplot(data=sample_ages,x='age')"
   ]
  },
  {
   "cell_type": "code",
   "execution_count": null,
   "metadata": {},
   "outputs": [],
   "source": [
    "plt.figure(figsize=(12,8))\n",
    "sns.displot(data=sample_ages,x='age',bins=30,rug=True)"
   ]
  },
  {
   "cell_type": "code",
   "execution_count": null,
   "metadata": {},
   "outputs": [],
   "source": [
    "plt.figure(figsize=(12,8))\n",
    "sns.displot(data=sample_ages,x='age',bins=10,rug=True,kde=True)"
   ]
  },
  {
   "cell_type": "code",
   "execution_count": null,
   "metadata": {},
   "outputs": [],
   "source": [
    "sns.kdeplot(data=sample_ages,x='age')"
   ]
  },
  {
   "cell_type": "markdown",
   "metadata": {},
   "source": [
    "### Отбрасываем значения слева и справа KDE\n",
    "\n",
    "Мы можем отбросить значения KDE вне заданного диапазона, Например, мы знаем, что возраст не может быть отрицательным. Также давайте скажем, что возраст не может быть больше 200."
   ]
  },
  {
   "cell_type": "code",
   "execution_count": null,
   "metadata": {},
   "outputs": [],
   "source": [
    "# plt.figure(figsize=(12,8))\n",
    "sns.kdeplot(data=sample_ages,x='age',clip=[0,200])"
   ]
  },
  {
   "cell_type": "markdown",
   "metadata": {},
   "source": [
    "### Ширина полосы - Bandwidth\n",
    "\n",
    "Как мы рассказываем в видео-лекции, KDE строится на основе некоторой ядерной функции (обычно на основе базовой функции Гаусса), и мы можем сделать KDE более \"чувствительным\" к данным, подбирая параметр \"ширина полосы\" (bandwidth). При меньшем знечении ширины полосы, значения становятся более собранными по ширине. В итоге мы можем не выполнять отсечение данных слева и справа. Уменьшение ширины полосы очень похоже на увеличение количества отрезков (bins) для гистограммы, когда каждый отрезок становится всё меньше и меньше."
   ]
  },
  {
   "cell_type": "code",
   "execution_count": null,
   "metadata": {},
   "outputs": [],
   "source": [
    "sns.kdeplot(data=sample_ages,x='age',bw_adjust=0.1)"
   ]
  },
  {
   "cell_type": "code",
   "execution_count": null,
   "metadata": {},
   "outputs": [],
   "source": [
    "sns.kdeplot(data=sample_ages,x='age',bw_adjust=0.5)"
   ]
  },
  {
   "cell_type": "code",
   "execution_count": null,
   "metadata": {},
   "outputs": [],
   "source": [
    "sns.kdeplot(data=sample_ages,x='age',bw_adjust=1)"
   ]
  },
  {
   "cell_type": "markdown",
   "metadata": {},
   "source": [
    "### Стилизация\n",
    "\n",
    "Для KDE доступны несколько базовых команд по настройке стиля."
   ]
  },
  {
   "cell_type": "code",
   "execution_count": null,
   "metadata": {},
   "outputs": [],
   "source": [
    "sns.kdeplot(data=sample_ages,x='age',bw_adjust=0.5,fill=True,color='red')"
   ]
  },
  {
   "cell_type": "markdown",
   "metadata": {},
   "source": [
    "## Двумерные графики KDE\n",
    "\n",
    "Позже мы изучим такие графики более детально, но в двух словах - здесь мы сравниваем две непрерывные переменные, и создаём двумерный график KDE, на котором отображаем распределение с помощью той же самой функции kdeplot(). Повторимся, мы рассмотрим эту тему позже более подробно, когда будем сравнивать две переменные друг с другом."
   ]
  },
  {
   "cell_type": "code",
   "execution_count": 31,
   "metadata": {},
   "outputs": [],
   "source": [
    "random_data = pd.DataFrame(np.random.normal(0,1,size=(100,2)),columns=['x','y'])"
   ]
  },
  {
   "cell_type": "code",
   "execution_count": 32,
   "metadata": {},
   "outputs": [
    {
     "data": {
      "text/html": [
       "<div>\n",
       "<style scoped>\n",
       "    .dataframe tbody tr th:only-of-type {\n",
       "        vertical-align: middle;\n",
       "    }\n",
       "\n",
       "    .dataframe tbody tr th {\n",
       "        vertical-align: top;\n",
       "    }\n",
       "\n",
       "    .dataframe thead th {\n",
       "        text-align: right;\n",
       "    }\n",
       "</style>\n",
       "<table border=\"1\" class=\"dataframe\">\n",
       "  <thead>\n",
       "    <tr style=\"text-align: right;\">\n",
       "      <th></th>\n",
       "      <th>x</th>\n",
       "      <th>y</th>\n",
       "    </tr>\n",
       "  </thead>\n",
       "  <tbody>\n",
       "    <tr>\n",
       "      <th>0</th>\n",
       "      <td>-1.415371</td>\n",
       "      <td>-0.420645</td>\n",
       "    </tr>\n",
       "    <tr>\n",
       "      <th>1</th>\n",
       "      <td>-0.342715</td>\n",
       "      <td>-0.802277</td>\n",
       "    </tr>\n",
       "    <tr>\n",
       "      <th>2</th>\n",
       "      <td>-0.161286</td>\n",
       "      <td>0.404051</td>\n",
       "    </tr>\n",
       "    <tr>\n",
       "      <th>3</th>\n",
       "      <td>1.886186</td>\n",
       "      <td>0.174578</td>\n",
       "    </tr>\n",
       "    <tr>\n",
       "      <th>4</th>\n",
       "      <td>0.257550</td>\n",
       "      <td>-0.074446</td>\n",
       "    </tr>\n",
       "    <tr>\n",
       "      <th>...</th>\n",
       "      <td>...</td>\n",
       "      <td>...</td>\n",
       "    </tr>\n",
       "    <tr>\n",
       "      <th>95</th>\n",
       "      <td>-0.208122</td>\n",
       "      <td>-0.493001</td>\n",
       "    </tr>\n",
       "    <tr>\n",
       "      <th>96</th>\n",
       "      <td>-0.589365</td>\n",
       "      <td>0.849602</td>\n",
       "    </tr>\n",
       "    <tr>\n",
       "      <th>97</th>\n",
       "      <td>0.357015</td>\n",
       "      <td>-0.692910</td>\n",
       "    </tr>\n",
       "    <tr>\n",
       "      <th>98</th>\n",
       "      <td>0.899600</td>\n",
       "      <td>0.307300</td>\n",
       "    </tr>\n",
       "    <tr>\n",
       "      <th>99</th>\n",
       "      <td>0.812862</td>\n",
       "      <td>0.629629</td>\n",
       "    </tr>\n",
       "  </tbody>\n",
       "</table>\n",
       "<p>100 rows × 2 columns</p>\n",
       "</div>"
      ],
      "text/plain": [
       "           x         y\n",
       "0  -1.415371 -0.420645\n",
       "1  -0.342715 -0.802277\n",
       "2  -0.161286  0.404051\n",
       "3   1.886186  0.174578\n",
       "4   0.257550 -0.074446\n",
       "..       ...       ...\n",
       "95 -0.208122 -0.493001\n",
       "96 -0.589365  0.849602\n",
       "97  0.357015 -0.692910\n",
       "98  0.899600  0.307300\n",
       "99  0.812862  0.629629\n",
       "\n",
       "[100 rows x 2 columns]"
      ]
     },
     "execution_count": 32,
     "metadata": {},
     "output_type": "execute_result"
    }
   ],
   "source": [
    "random_data"
   ]
  },
  {
   "cell_type": "code",
   "execution_count": 33,
   "metadata": {},
   "outputs": [
    {
     "data": {
      "text/plain": [
       "<AxesSubplot:xlabel='x', ylabel='y'>"
      ]
     },
     "execution_count": 33,
     "metadata": {},
     "output_type": "execute_result"
    },
    {
     "data": {
      "image/png": "[encoded data removed]",
      "text/plain": [
       "<Figure size 432x288 with 1 Axes>"
      ]
     },
     "metadata": {},
     "output_type": "display_data"
    }
   ],
   "source": [
    "sns.kdeplot(data=random_data,x='x',y='y')"
   ]
  },
  {
   "cell_type": "markdown",
   "metadata": {},
   "source": [
    "----\n",
    "----"
   ]
  },
  {
   "cell_type": "markdown",
   "metadata": {},
   "source": [
    "### Дополнительный код для визуализаций в видео-лекции\n",
    "\n",
    "Ниже приведён тот код, который был использован для создания визуализации графика KDE в видео-лекции. Мы не будем разбирать здесь детали этого кода, поскольку он был нужен только для того, чтобы создать слайды для видео."
   ]
  },
  {
   "cell_type": "code",
   "execution_count": 34,
   "metadata": {},
   "outputs": [],
   "source": [
    "from scipy import stats"
   ]
  },
  {
   "cell_type": "markdown",
   "metadata": {},
   "source": [
    "**Data**"
   ]
  },
  {
   "cell_type": "code",
   "execution_count": 41,
   "metadata": {},
   "outputs": [],
   "source": [
    "np.random.seed(101)\n",
    "x = np.random.normal(0, 1, size=20)"
   ]
  },
  {
   "cell_type": "code",
   "execution_count": null,
   "metadata": {},
   "outputs": [],
   "source": [
    "plt.figure(figsize=(8,4),dpi=200)\n",
    "sns.rugplot(x, color=\"darkblue\", linewidth=4)"
   ]
  },
  {
   "cell_type": "code",
   "execution_count": null,
   "metadata": {},
   "outputs": [],
   "source": [
    "plt.figure(figsize=(8,4),dpi=200)\n",
    "bandwidth = x.std() * x.size ** (-0.001)\n",
    "support = np.linspace(-5, 5, 100)\n",
    "\n",
    "kernels = []\n",
    "\n",
    "plt.figure(figsize=(12,6))\n",
    "\n",
    "for x_i in x:\n",
    "\n",
    "    kernel = stats.norm(x_i, bandwidth).pdf(support)\n",
    "    kernels.append(kernel)\n",
    "    plt.plot(support, kernel, color=\"lightblue\")\n",
    "\n",
    "sns.rugplot(x, color=\"darkblue\", linewidth=4);"
   ]
  },
  {
   "cell_type": "code",
   "execution_count": null,
   "metadata": {},
   "outputs": [],
   "source": [
    "plt.figure(figsize=(8,4),dpi=200)\n",
    "from scipy.integrate import trapz\n",
    "plt.figure(figsize=(12,6))\n",
    "density = np.sum(kernels, axis=0)\n",
    "density /= trapz(density, support)\n",
    "plt.plot(support, density);\n",
    "sns.rugplot(x, color=\"darkblue\", linewidth=4);"
   ]
  },
  {
   "cell_type": "code",
   "execution_count": null,
   "metadata": {},
   "outputs": [],
   "source": [
    "plt.figure(figsize=(8,4),dpi=200)\n",
    "bandwidth = x.std() * x.size ** (-0.001)\n",
    "support = np.linspace(-5, 5, 100)\n",
    "\n",
    "kernels = []\n",
    "\n",
    "plt.figure(figsize=(12,6))\n",
    "\n",
    "for x_i in x:\n",
    "\n",
    "    kernel = stats.norm(x_i, bandwidth).pdf(support)\n",
    "    kernels.append(kernel)\n",
    "#     plt.plot(support, kernel, color=\"lightblue\")\n",
    "\n",
    "# sns.rugplot(x, color=\"darkblue\", linewidth=4);\n",
    "sns.kdeplot(x,linewidth=6,shade=True)"
   ]
  },
  {
   "cell_type": "markdown",
   "metadata": {},
   "source": [
    "---\n",
    "---"
   ]
  }
 ],
 "metadata": {
  "anaconda-cloud": {},
  "kernelspec": {
   "display_name": "base",
   "language": "python",
   "name": "python3"
  },
  "language_info": {
   "codemirror_mode": {
    "name": "ipython",
    "version": 3
   },
   "file_extension": ".py",
   "mimetype": "text/x-python",
   "name": "python",
   "nbconvert_exporter": "python",
   "pygments_lexer": "ipython3",
   "version": "3.10.9"
  }
 },
 "nbformat": 4,
 "nbformat_minor": 1
}
