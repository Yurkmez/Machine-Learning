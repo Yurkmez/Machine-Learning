{
 "cells": [
  {
   "cell_type": "markdown",
   "metadata": {},
   "source": [
    "___\n",
    "\n",
    "<a href='http://www.pieriandata.com'><img src='../Pierian_Data_Logo.png'/></a>\n",
    "___\n",
    "<center><em>Авторские права принадлежат Pierian Data Inc.</em></center>\n",
    "<center><em>Для дополнительной информации посетите наш сайт <a href='http://www.pieriandata.com'>www.pieriandata.com</a></em></center>"
   ]
  },
  {
   "cell_type": "markdown",
   "metadata": {},
   "source": [
    "# Гиперпараметры DBSCAN \n",
    "\n",
    "\n",
    "Давайте посмотрим, какие есть гиперпараметры в DBSCAN, и как они влияют на результаты работы модели!"
   ]
  },
  {
   "cell_type": "markdown",
   "metadata": {},
   "source": [
    "## DBSCAN и примеры кластеризации"
   ]
  },
  {
   "cell_type": "code",
   "execution_count": 1,
   "metadata": {},
   "outputs": [],
   "source": [
    "import numpy as np\n",
    "import pandas as pd\n",
    "import matplotlib.pyplot as plt\n",
    "import seaborn as sns"
   ]
  },
  {
   "cell_type": "code",
   "execution_count": 2,
   "metadata": {},
   "outputs": [],
   "source": [
    "two_blobs = pd.read_csv('cluster_two_blobs.csv')\n",
    "two_blobs_outliers = pd.read_csv('cluster_two_blobs_outliers.csv')"
   ]
  },
  {
   "cell_type": "code",
   "execution_count": null,
   "metadata": {},
   "outputs": [],
   "source": [
    "sns.scatterplot(data=two_blobs,x='X1',y='X2')"
   ]
  },
  {
   "cell_type": "code",
   "execution_count": null,
   "metadata": {},
   "outputs": [],
   "source": [
    "# plt.figure(figsize=(10,6),dpi=200)\n",
    "sns.scatterplot(data=two_blobs_outliers,x='X1',y='X2')"
   ]
  },
  {
   "cell_type": "markdown",
   "metadata": {},
   "source": [
    "## \"Создаём\" целевую переменную с помощью кластеризации (Label Discovery)"
   ]
  },
  {
   "cell_type": "code",
   "execution_count": 5,
   "metadata": {},
   "outputs": [],
   "source": [
    "def display_categories(model, data):\n",
    "    labels = model.fit_predict(data)\n",
    "    sns.scatterplot(data=data,x='X1',y='X2',hue=labels,palette='Set1')"
   ]
  },
  {
   "cell_type": "markdown",
   "metadata": {},
   "source": [
    "## DBSCAN"
   ]
  },
  {
   "cell_type": "code",
   "execution_count": 6,
   "metadata": {},
   "outputs": [],
   "source": [
    "from sklearn.cluster import DBSCAN"
   ]
  },
  {
   "cell_type": "code",
   "execution_count": null,
   "metadata": {},
   "outputs": [],
   "source": [
    "help(DBSCAN)"
   ]
  },
  {
   "cell_type": "code",
   "execution_count": 7,
   "metadata": {},
   "outputs": [],
   "source": [
    "dbscan = DBSCAN()"
   ]
  },
  {
   "cell_type": "code",
   "execution_count": null,
   "metadata": {},
   "outputs": [],
   "source": [
    "display_categories(dbscan,two_blobs)"
   ]
  },
  {
   "cell_type": "code",
   "execution_count": null,
   "metadata": {},
   "outputs": [],
   "source": [
    "\n",
    "display_categories(dbscan,two_blobs_outliers)"
   ]
  },
  {
   "cell_type": "markdown",
   "metadata": {},
   "source": [
    "# Эпсилон - Epsilon\n",
    "\n",
    "### eps: float, default=0.5  \n",
    "\n",
    "The maximum distance between two samples for one to be considered  \n",
    "    as in the neighborhood of the other. This is not a maximum bound  \n",
    "    on the distances of points within a cluster. This is the most  \n",
    "    important DBSCAN parameter to choose appropriately for your data set  \n",
    "    and distance function."
   ]
  },
  {
   "cell_type": "code",
   "execution_count": null,
   "metadata": {},
   "outputs": [],
   "source": [
    "# Маленький эпсилон --> Маленькая окрестность вокруг точек --> Все точки являются выбросами (class=-1)\n",
    "dbscan = DBSCAN(eps=0.001)\n",
    "display_categories(dbscan,two_blobs_outliers)"
   ]
  },
  {
   "cell_type": "code",
   "execution_count": null,
   "metadata": {},
   "outputs": [],
   "source": [
    "# Огромный эпсилон --> Большие окрестности точек --> Все точки в одном кластере (class=0)\n",
    "dbscan = DBSCAN(eps=10)\n",
    "display_categories(dbscan,two_blobs_outliers)"
   ]
  },
  {
   "cell_type": "code",
   "execution_count": null,
   "metadata": {},
   "outputs": [],
   "source": [
    "# Как найти хорошее значение эпсилон?\n",
    "plt.figure(figsize=(10,6),dpi=200)\n",
    "dbscan = DBSCAN(eps=1)\n",
    "display_categories(dbscan,two_blobs_outliers)"
   ]
  },
  {
   "cell_type": "code",
   "execution_count": 14,
   "metadata": {},
   "outputs": [
    {
     "data": {
      "text/plain": [
       "array([ 0,  1,  0, ..., -1, -1, -1], dtype=int64)"
      ]
     },
     "execution_count": 14,
     "metadata": {},
     "output_type": "execute_result"
    }
   ],
   "source": [
    "dbscan.labels_"
   ]
  },
  {
   "cell_type": "code",
   "execution_count": null,
   "metadata": {},
   "outputs": [
    {
     "data": {
      "text/plain": [
       "array([False, False, False, ...,  True,  True,  True])"
      ]
     },
     "execution_count": 52,
     "metadata": {},
     "output_type": "execute_result"
    }
   ],
   "source": [
    "# Получаем булево значение для каждой точки.\n",
    "dbscan.labels_ == -1"
   ]
  },
  {
   "cell_type": "code",
   "execution_count": 15,
   "metadata": {},
   "outputs": [
    {
     "data": {
      "text/plain": [
       "3"
      ]
     },
     "execution_count": 15,
     "metadata": {},
     "output_type": "execute_result"
    }
   ],
   "source": [
    "np.sum(dbscan.labels_ == -1)"
   ]
  },
  {
   "cell_type": "code",
   "execution_count": 16,
   "metadata": {},
   "outputs": [
    {
     "data": {
      "text/plain": [
       "500"
      ]
     },
     "execution_count": 16,
     "metadata": {},
     "output_type": "execute_result"
    }
   ],
   "source": [
    "np.sum(dbscan.labels_ == 1)\n"
   ]
  },
  {
   "cell_type": "code",
   "execution_count": 17,
   "metadata": {},
   "outputs": [
    {
     "data": {
      "text/plain": [
       "500"
      ]
     },
     "execution_count": 17,
     "metadata": {},
     "output_type": "execute_result"
    }
   ],
   "source": [
    "np.sum(dbscan.labels_ == 0)\n"
   ]
  },
  {
   "cell_type": "code",
   "execution_count": 18,
   "metadata": {},
   "outputs": [
    {
     "data": {
      "text/plain": [
       "0.29910269192422734"
      ]
     },
     "execution_count": 18,
     "metadata": {},
     "output_type": "execute_result"
    }
   ],
   "source": [
    "# Какой процент выбросов\n",
    "100 * np.sum(dbscan.labels_ == -1) / len(dbscan.labels_)"
   ]
  },
  {
   "cell_type": "markdown",
   "metadata": {},
   "source": [
    "## Рисуем график для различных значений эпсилон"
   ]
  },
  {
   "cell_type": "markdown",
   "metadata": {},
   "source": [
    "Применение метода \"локтя\" (elbow) / \"колена\" (knee): \n",
    "https://raghavan.usc.edu/papers/kneedle-simplex11.pdf"
   ]
  },
  {
   "cell_type": "code",
   "execution_count": 19,
   "metadata": {},
   "outputs": [
    {
     "data": {
      "text/plain": [
       "3"
      ]
     },
     "execution_count": 19,
     "metadata": {},
     "output_type": "execute_result"
    }
   ],
   "source": [
    "# Подсчитываем к-во классов (с учетом класса выбросов \"-1\")\n",
    "len(np.unique((dbscan.labels_)))"
   ]
  },
  {
   "cell_type": "code",
   "execution_count": 27,
   "metadata": {},
   "outputs": [],
   "source": [
    "# np.arange(start=0.01,stop=10,step=0.01)\n",
    "outlier_percent = []\n",
    "number_of_outliers = []\n",
    "\n",
    "for eps in np.linspace(0.01,2,100):\n",
    "    \n",
    "    # Создаём модель\n",
    "    dbscan = DBSCAN(eps=eps)\n",
    "    dbscan.fit(two_blobs_outliers)\n",
    "    \n",
    "    # Сохраняем количество точек выбросов\n",
    "    number_of_outliers.append(np.sum(dbscan.labels_ == -1))\n",
    "    \n",
    "    # Сохраняем процент точек-выбросов (количество выбросов как процент от общего количества точек)\n",
    "    perc_outliers = 100 * np.sum(dbscan.labels_ == -1) / len(dbscan.labels_)\n",
    "    \n",
    "    outlier_percent.append(perc_outliers)    "
   ]
  },
  {
   "cell_type": "code",
   "execution_count": null,
   "metadata": {},
   "outputs": [],
   "source": [
    "sns.lineplot(x=np.linspace(0.01,2,100),y=outlier_percent)\n",
    "plt.ylabel(\"Percentage of Points Classified as Outliers\")\n",
    "plt.xlabel(\"Epsilon Value\")"
   ]
  },
  {
   "cell_type": "markdown",
   "metadata": {},
   "source": []
  },
  {
   "cell_type": "code",
   "execution_count": null,
   "metadata": {},
   "outputs": [],
   "source": [
    "sns.lineplot(x=np.linspace(0.01,2,100),y=number_of_outliers)\n",
    "plt.ylabel(\"Number of Points Classified as Outliers\")\n",
    "plt.xlabel(\"Epsilon Value\")\n",
    "plt.xlim(0,2)\n",
    "plt.hlines(y=3, xmin=0, xmax=2, color='red')"
   ]
  },
  {
   "cell_type": "markdown",
   "metadata": {},
   "source": [
    "### Если мы работаем с процентами выбросов\n",
    "\n",
    "В этом случае мы выбираем некоторый \"допустимый\" процент выбросов, например 1%-5% выбросов."
   ]
  },
  {
   "cell_type": "code",
   "execution_count": null,
   "metadata": {},
   "outputs": [],
   "source": [
    "sns.lineplot(x=np.linspace(0.001,10,100),y=outlier_percent)\n",
    "plt.ylabel(\"Percentage of Points Classified as Outliers\")\n",
    "plt.xlabel(\"Epsilon Value\")\n",
    "plt.ylim(0,10)\n",
    "plt.xlim(0,2)\n",
    "plt.hlines(y=1,xmin=0,xmax=2,colors='red',ls='--')"
   ]
  },
  {
   "cell_type": "code",
   "execution_count": null,
   "metadata": {},
   "outputs": [],
   "source": [
    "# Как найти хорошее значение эпсилон?\n",
    "dbscan = DBSCAN(eps=0.4)\n",
    "display_categories(dbscan,two_blobs_outliers)"
   ]
  },
  {
   "cell_type": "markdown",
   "metadata": {},
   "source": [
    "### Если мы работаем с количеством выбросов\n",
    "\n",
    "В этом случае мы можем выбрать некоторое \"допустимое\" количество точек-выбросов. Например, считаем допустимым 3 выброса."
   ]
  },
  {
   "cell_type": "code",
   "execution_count": null,
   "metadata": {},
   "outputs": [],
   "source": [
    "sns.lineplot(x=np.linspace(0.001,10,100),y=number_of_outliers)\n",
    "plt.ylabel(\"Number of Points Classified as Outliers\")\n",
    "plt.xlabel(\"Epsilon Value\")\n",
    "plt.ylim(0,10)\n",
    "plt.xlim(0,6)\n",
    "plt.hlines(y=3,xmin=0,xmax=10,colors='red',ls='--')"
   ]
  },
  {
   "cell_type": "code",
   "execution_count": null,
   "metadata": {},
   "outputs": [],
   "source": [
    "# Какое значение эпсилон хорошее?\n",
    "dbscan = DBSCAN(eps=0.75)\n",
    "display_categories(dbscan,two_blobs_outliers)"
   ]
  },
  {
   "cell_type": "markdown",
   "metadata": {},
   "source": [
    "## Минимальное количество точек (Minimum Samples)\n",
    "\n",
    "min_samples : int, default=5  \n",
    "The number of samples (or total weight) in a neighborhood for a point  \n",
    "to be considered as a core point. This includes the point itself.\n",
    "\n",
    "Как можно выбрать минимальное значение точек?\n",
    "\n",
    "https://stats.stackexchange.com/questions/88872/a-routine-to-choose-eps-and-minpts-for-dbscan"
   ]
  },
  {
   "cell_type": "code",
   "execution_count": 37,
   "metadata": {},
   "outputs": [],
   "source": [
    "outlier_percent = []\n",
    "number_of_outliers = []\n",
    "\n",
    "for n in np.arange(1,100):\n",
    "    \n",
    "    # Создаём модеь\n",
    "    dbscan = DBSCAN(min_samples=n)\n",
    "    dbscan.fit(two_blobs_outliers)\n",
    "    \n",
    "    # Процент точек-выбросов (количество выбросов как процент от общего количества точек)\n",
    "    perc_outliers = 100 * np.sum(dbscan.labels_ == -1) / len(dbscan.labels_)\n",
    "    # Количество точек выбросов\n",
    "    number_of_outliers.append(np.sum(dbscan.labels_ == -1))\n",
    "    outlier_percent.append(perc_outliers)\n",
    "    "
   ]
  },
  {
   "cell_type": "code",
   "execution_count": null,
   "metadata": {},
   "outputs": [],
   "source": [
    "sns.lineplot(x=np.arange(1,100),y=outlier_percent)\n",
    "plt.ylabel(\"Percentage of Points Classified as Outliers\")\n",
    "plt.xlabel(\"Minimum Number of Samples\")"
   ]
  },
  {
   "cell_type": "code",
   "execution_count": null,
   "metadata": {},
   "outputs": [],
   "source": [
    "num_dim = two_blobs_outliers.shape[1]\n",
    "\n",
    "dbscan = DBSCAN(min_samples=2*num_dim)\n",
    "display_categories(dbscan,two_blobs_outliers)"
   ]
  },
  {
   "cell_type": "code",
   "execution_count": null,
   "metadata": {},
   "outputs": [],
   "source": [
    "num_dim = two_blobs_outliers.shape[1]\n",
    "\n",
    "dbscan = DBSCAN(eps=0.75,min_samples=2*num_dim)\n",
    "display_categories(dbscan,two_blobs_outliers)"
   ]
  },
  {
   "cell_type": "code",
   "execution_count": null,
   "metadata": {},
   "outputs": [],
   "source": [
    "dbscan = DBSCAN(min_samples=1)\n",
    "display_categories(dbscan,two_blobs_outliers)"
   ]
  },
  {
   "cell_type": "code",
   "execution_count": null,
   "metadata": {},
   "outputs": [],
   "source": [
    "dbscan = DBSCAN(eps=0.75,min_samples=1)\n",
    "display_categories(dbscan,two_blobs_outliers)"
   ]
  },
  {
   "cell_type": "markdown",
   "metadata": {},
   "source": [
    "----"
   ]
  }
 ],
 "metadata": {
  "anaconda-cloud": {},
  "kernelspec": {
   "display_name": "base",
   "language": "python",
   "name": "python3"
  },
  "language_info": {
   "codemirror_mode": {
    "name": "ipython",
    "version": 3
   },
   "file_extension": ".py",
   "mimetype": "text/x-python",
   "name": "python",
   "nbconvert_exporter": "python",
   "pygments_lexer": "ipython3",
   "version": "3.10.9"
  }
 },
 "nbformat": 4,
 "nbformat_minor": 1
}
