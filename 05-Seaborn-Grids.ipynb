{
 "cells": [
  {
   "cell_type": "markdown",
   "metadata": {},
   "source": [
    "___\n",
    "\n",
    "<a href='http://www.pieriandata.com'><img src='../Pierian_Data_Logo.png'/></a>\n",
    "___\n",
    "<center><em>Авторские права принадлежат Pierian Data Inc.</em></center>\n",
    "<center><em>Для дополнительной информации посетите наш сайт <a href='http://www.pieriandata.com'>www.pieriandata.com</a></em></center>"
   ]
  },
  {
   "cell_type": "markdown",
   "metadata": {},
   "source": [
    "# Сетки - Grids"
   ]
  },
  {
   "cell_type": "markdown",
   "metadata": {},
   "source": [
    "## Imports"
   ]
  },
  {
   "cell_type": "code",
   "execution_count": 1,
   "metadata": {},
   "outputs": [],
   "source": [
    "import numpy as np\n",
    "import pandas as pd\n",
    "import matplotlib.pyplot as plt\n",
    "import seaborn as sns"
   ]
  },
  {
   "cell_type": "markdown",
   "metadata": {},
   "source": [
    "## Данные"
   ]
  },
  {
   "cell_type": "code",
   "execution_count": 4,
   "metadata": {},
   "outputs": [],
   "source": [
    "df = pd.read_csv('StudentsPerformance.csv')"
   ]
  },
  {
   "cell_type": "code",
   "execution_count": null,
   "metadata": {
    "scrolled": true
   },
   "outputs": [],
   "source": [
    "df.head()"
   ]
  },
  {
   "cell_type": "markdown",
   "metadata": {},
   "source": [
    "## catplot()\n",
    "\n"
   ]
  },
  {
   "cell_type": "code",
   "execution_count": null,
   "metadata": {},
   "outputs": [],
   "source": [
    "# Варианты для параметра kind: “point”, “bar”, “strip”, “swarm”, “box”, “violin” или “boxen”\n",
    "sns.catplot(x='gender',y='math score',data=df,kind='box')"
   ]
  },
  {
   "cell_type": "code",
   "execution_count": null,
   "metadata": {},
   "outputs": [],
   "source": [
    "sns.catplot(x='gender',y='math score',data=df,kind='box',row='lunch')"
   ]
  },
  {
   "cell_type": "code",
   "execution_count": null,
   "metadata": {},
   "outputs": [],
   "source": [
    "sns.catplot(x='gender',y='math score',data=df,kind='box',col='lunch')"
   ]
  },
  {
   "cell_type": "code",
   "execution_count": null,
   "metadata": {},
   "outputs": [],
   "source": [
    "# Для сравнения\n",
    "sns.catplot(x='gender',y='math score',data=df,kind='box',hue='lunch')"
   ]
  },
  {
   "cell_type": "code",
   "execution_count": null,
   "metadata": {},
   "outputs": [],
   "source": [
    "# Для сравнения\n",
    "sns.boxplot(x='gender',y='math score',data=df,hue='lunch')\n"
   ]
  },
  {
   "cell_type": "code",
   "execution_count": null,
   "metadata": {},
   "outputs": [],
   "source": [
    "sns.catplot(x='gender',y='math score',data=df,kind='violin',row='lunch',col='test preparation course')"
   ]
  },
  {
   "cell_type": "markdown",
   "metadata": {},
   "source": [
    "## Pairgrid\n",
    "\n",
    "Grid, на основе которого построен pairplot. Позволяет настраивать различные параметры, как мы это видели раньше для pairplot."
   ]
  },
  {
   "cell_type": "code",
   "execution_count": null,
   "metadata": {},
   "outputs": [],
   "source": [
    "g = sns.PairGrid(df)\n",
    "g = g.map_upper(sns.scatterplot) # Вид графика для верхней части графиков\n",
    "# g = g.map_diag(sns.kdeplot, lw=2) # - \" - для диагонали\n",
    "g = g.map_lower(sns.kdeplot, colors=\"red\") # -\" для нижней части."
   ]
  },
  {
   "cell_type": "code",
   "execution_count": null,
   "metadata": {},
   "outputs": [],
   "source": [
    "g = sns.PairGrid(df, hue=\"gender\", palette=\"viridis\",hue_kws={\"marker\": [\"o\", \"+\"]})\n",
    "g = g.map_upper(sns.scatterplot, linewidths=1, edgecolor=\"w\", s=40)\n",
    "g = g.map_diag(sns.distplot)\n",
    "g = g.map_lower(sns.kdeplot)\n",
    "g = g.add_legend();\n",
    "\n",
    "# Можете не обращать внимание на предупреждение, оно относится к маркерам для графика kde plot"
   ]
  },
  {
   "cell_type": "markdown",
   "metadata": {},
   "source": [
    "## FacetGrid"
   ]
  },
  {
   "cell_type": "code",
   "execution_count": null,
   "metadata": {},
   "outputs": [],
   "source": [
    "sns.FacetGrid(data=df,col='gender',row='lunch')"
   ]
  },
  {
   "cell_type": "code",
   "execution_count": null,
   "metadata": {},
   "outputs": [],
   "source": [
    "g = sns.FacetGrid(data=df,col='gender',row='lunch')\n",
    "g = g.map(plt.scatter, \"math score\", \"reading score\", edgecolor=\"w\")\n",
    "g.add_legend()"
   ]
  },
  {
   "cell_type": "code",
   "execution_count": 26,
   "metadata": {},
   "outputs": [],
   "source": [
    "# https://stackoverflow.com/questions/43669229/increase-space-between-rows-on-facetgrid-plot"
   ]
  },
  {
   "cell_type": "code",
   "execution_count": null,
   "metadata": {},
   "outputs": [],
   "source": [
    "g = sns.FacetGrid(data=df,col='gender',row='lunch')\n",
    "g = g.map(plt.scatter, \"math score\", \"reading score\", edgecolor=\"w\")\n",
    "g.add_legend()\n",
    "\n",
    "plt.subplots_adjust(hspace=0.4, wspace=1)"
   ]
  },
  {
   "cell_type": "markdown",
   "metadata": {},
   "source": [
    "----\n",
    "----"
   ]
  }
 ],
 "metadata": {
  "anaconda-cloud": {},
  "kernelspec": {
   "display_name": "base",
   "language": "python",
   "name": "python3"
  },
  "language_info": {
   "codemirror_mode": {
    "name": "ipython",
    "version": 3
   },
   "file_extension": ".py",
   "mimetype": "text/x-python",
   "name": "python",
   "nbconvert_exporter": "python",
   "pygments_lexer": "ipython3",
   "version": "3.10.9"
  }
 },
 "nbformat": 4,
 "nbformat_minor": 1
}
